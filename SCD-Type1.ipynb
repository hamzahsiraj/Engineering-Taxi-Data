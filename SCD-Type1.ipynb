{
 "cells": [
  {
   "cell_type": "code",
   "execution_count": 1,
   "metadata": {},
   "outputs": [],
   "source": [
    "import findspark\n",
    "findspark.init()\n",
    "from pyspark.sql import SparkSession, Window\n",
    "import pandas as pd\n",
    "import pandas_redshift as pr"
   ]
  },
  {
   "cell_type": "code",
   "execution_count": 2,
   "metadata": {},
   "outputs": [],
   "source": [
    "# pip install pandas_redshift\n",
    "spark = SparkSession.builder.getOrCreate()"
   ]
  },
  {
   "cell_type": "code",
   "execution_count": 3,
   "metadata": {},
   "outputs": [],
   "source": [
    "pr.connect_to_redshift(\n",
    "    host= 'bootcamp-cluster-1.c8mq2kyighu9.us-east-2.redshift.amazonaws.com',\n",
    "    user = 'bootcamp_user',\n",
    "    port = '5439',\n",
    "    password = 'Bootcampuser20',\n",
    "    dbname='dev'\n",
    ")"
   ]
  },
  {
   "cell_type": "code",
   "execution_count": 4,
   "metadata": {},
   "outputs": [],
   "source": [
    "sql_statement = 'select * from driverdim_hamzah_temp'\n",
    "sql_statement1 = 'select * from driverfeed_hamzah'\n",
    "sql_statement2 = 'select * from shifttimedim_hamzah'\n",
    "sql_statement3 = 'select * from coveragedim_hamzah'\n",
    "sql_statement4 = 'select * from companydim_hamzah'\n",
    "sql_statement5 = 'select * from skyline_test_Hamzah'\n"
   ]
  },
  {
   "cell_type": "code",
   "execution_count": 5,
   "metadata": {},
   "outputs": [],
   "source": [
    "df = pr.redshift_to_pandas(sql_statement)\n",
    "df1 = pr.redshift_to_pandas(sql_statement1)\n",
    "df2 = pr.redshift_to_pandas(sql_statement2)\n",
    "df3 = pr.redshift_to_pandas(sql_statement3)\n",
    "df4 = pr.redshift_to_pandas(sql_statement4)\n",
    "df5 = pr.redshift_to_pandas(sql_statement5)"
   ]
  },
  {
   "cell_type": "code",
   "execution_count": 6,
   "metadata": {},
   "outputs": [],
   "source": [
    "import pyspark.sql.functions as F\n",
    "import pyspark.sql.types as T"
   ]
  },
  {
   "cell_type": "code",
   "execution_count": 7,
   "metadata": {},
   "outputs": [],
   "source": [
    "#These are the five dataframes\n",
    "pickupFact = spark.createDataFrame(df5)\n",
    "driverdim = spark.createDataFrame(df)\n",
    "driverfeed = spark.createDataFrame(df1)\n",
    "shiftTime = spark.createDataFrame(df2)\n",
    "coverage = spark.createDataFrame(df3)\n",
    "company = spark.createDataFrame(df4)"
   ]
  },
  {
   "cell_type": "code",
   "execution_count": 8,
   "metadata": {},
   "outputs": [],
   "source": [
    "maxx = driverdim.agg({\"driverkey\": \"max\"}).head(1)[0][0]"
   ]
  },
  {
   "cell_type": "code",
   "execution_count": 16,
   "metadata": {},
   "outputs": [],
   "source": [
    "def deleteFromDrivedim(drivedim, driverfeed): \n",
    "    drivedimFired = driverdim.join(driverfeed, (driverdim.drivername == driverfeed.drivername) & (driverfeed.action == 'FIRED'), how='inner') \n",
    "    drivedimFired = drivedimFired.select(['driverkey', driverdim.drivername, 'shifttimekey', 'coveragekey','companykey'])\n",
    "    \n",
    "    return drivedimFired \n",
    "drivedimFired = deleteFromDrivedim(driverdim, driverfeed)\n",
    "drivedimRemoved = driverdim.join(drivedimFired, (drivedimFired.drivername == driverdim.drivername),how='left_anti')"
   ]
  },
  {
   "cell_type": "code",
   "execution_count": 12,
   "metadata": {},
   "outputs": [
    {
     "name": "stdout",
     "output_type": "stream",
     "text": [
      "+---------+----------+------------+-----------+----------+\n",
      "|driverkey|drivername|shifttimekey|coveragekey|compnaykey|\n",
      "+---------+----------+------------+-----------+----------+\n",
      "|       26|   F02Name|           1|          8|         2|\n",
      "|       25|   F01Name|           1|          2|         2|\n",
      "|       35|   F11Name|           2|          6|         2|\n",
      "|       43|   F19Name|           3|          1|         2|\n",
      "|       32|   F08Name|           1|          1|         2|\n",
      "|       41|   F17Name|           3|          3|         2|\n",
      "|       38|   F14Name|           2|          3|         2|\n",
      "|       69|   L21Name|           3|          4|         3|\n",
      "|       68|   L20Name|           3|          8|         3|\n",
      "|       72|   L24Name|           3|          7|         3|\n",
      "|       51|   L03Name|           1|          7|         3|\n",
      "|       57|   L09Name|           2|          2|         3|\n",
      "|       71|   L23Name|           3|          5|         3|\n",
      "|       58|   L10Name|           2|          1|         3|\n",
      "|       55|   L07Name|           1|          3|         3|\n",
      "|       87|   S15Name|           2|          4|         4|\n",
      "|       77|   S05Name|           1|          4|         4|\n",
      "|       73|   S01Name|           3|          2|         4|\n",
      "|       89|   S17Name|           1|          2|         4|\n",
      "|       86|   S14Name|           2|          5|         4|\n",
      "+---------+----------+------------+-----------+----------+\n",
      "only showing top 20 rows\n",
      "\n"
     ]
    }
   ],
   "source": [
    "drivedimRemoved.show()"
   ]
  },
  {
   "cell_type": "code",
   "execution_count": 17,
   "metadata": {},
   "outputs": [],
   "source": [
    "def changeAttr(drivedim, drivefeed, shiftime, cove, comp):\n",
    "    drivedimChanged=  drivedim.join(driverfeed, (drivedim.drivername == drivefeed.drivername) & (drivefeed.action == 'CHANGE'), how='inner').join(shiftime, (drivefeed.beginshift==shiftime.starttime) & (drivefeed.endshift==shiftime.endtime), how='inner').join(cove, (drivefeed.coverage==cove.coverage), how='inner').join(comp, (drivefeed.source==comp.company), how='inner')\n",
    "    drivedimChanged = drivedimChanged.select(['driverkey', drivedim.drivername, shiftime.shifttimekey, cove.coveragekey,comp.compnaykey])\n",
    "    \n",
    "    return drivedimChanged\n",
    "drivedimChanged = changeAttr(drivedimRemoved, driverfeed, shiftTime, coverage, company)"
   ]
  },
  {
   "cell_type": "code",
   "execution_count": 18,
   "metadata": {},
   "outputs": [
    {
     "name": "stdout",
     "output_type": "stream",
     "text": [
      "+---------+----------+------------+-----------+----------+\n",
      "|driverkey|drivername|shifttimekey|coveragekey|compnaykey|\n",
      "+---------+----------+------------+-----------+----------+\n",
      "|       26|   F02Name|           1|          8|         2|\n",
      "|       25|   F01Name|           1|          2|         2|\n",
      "|       35|   F11Name|           2|          6|         2|\n",
      "|       43|   F19Name|           3|          1|         2|\n",
      "|       32|   F08Name|           1|          1|         2|\n",
      "|       41|   F17Name|           3|          3|         2|\n",
      "|       38|   F14Name|           2|          3|         2|\n",
      "|       69|   L21Name|           3|          4|         3|\n",
      "|       68|   L20Name|           3|          8|         3|\n",
      "|       72|   L24Name|           3|          7|         3|\n",
      "|       51|   L03Name|           1|          7|         3|\n",
      "|       57|   L09Name|           2|          2|         3|\n",
      "|       71|   L23Name|           3|          5|         3|\n",
      "|       58|   L10Name|           2|          1|         3|\n",
      "|       55|   L07Name|           1|          3|         3|\n",
      "|       87|   S15Name|           2|          4|         4|\n",
      "|       77|   S05Name|           1|          4|         4|\n",
      "|       73|   S01Name|           3|          2|         4|\n",
      "|       89|   S17Name|           1|          2|         4|\n",
      "|       86|   S14Name|           2|          5|         4|\n",
      "+---------+----------+------------+-----------+----------+\n",
      "only showing top 20 rows\n",
      "\n"
     ]
    }
   ],
   "source": [
    "drivedimChanged.show()"
   ]
  },
  {
   "cell_type": "code",
   "execution_count": 19,
   "metadata": {},
   "outputs": [],
   "source": [
    "intersecting = driverdim.join(drivedimChanged, (drivedimChanged.drivername == driverdim.drivername), how='left_anti')\n",
    "drivedimChanged = drivedimChanged.unionAll(intersecting)\n",
    "drivedimRemoved = drivedimChanged.join(drivedimFired, (drivedimFired.drivername == drivedimChanged.drivername),how='left_anti')"
   ]
  },
  {
   "cell_type": "code",
   "execution_count": 20,
   "metadata": {},
   "outputs": [],
   "source": [
    "def hired(drivedim, driverfeed, shiftime, cove, comp):\n",
    "    drivedimChanged=  driverfeed.join(shiftime, (driverfeed.action == 'HIRED') & (driverfeed.beginshift==shiftime.starttime) & (driverfeed.endshift==shiftime.endtime), how='inner').join(cove, (driverfeed.coverage==cove.coverage), how='inner').join(comp, (driverfeed.source==comp.company), how='inner')\n",
    "    drivedimChanged = drivedimChanged.withColumn('key', F.row_number().over(Window.orderBy(F.monotonically_increasing_id())))\n",
    "    \n",
    "    drivedimChanged = drivedimChanged.withColumn('driverkey', maxx+drivedimChanged.key)\n",
    "    drivedimChanged = drivedimChanged.select(['driverkey', driverfeed.drivername,shiftime.shifttimekey, cove.coveragekey,comp.compnaykey])\n",
    "    return drivedimChanged\n",
    "fd = hired(driverdim, driverfeed, shiftTime, coverage, company)\n",
    "driverAdded = drivedimRemoved.union(fd)\n",
    "driverAdded = driverAdded.orderBy('driverkey', ascending=True)"
   ]
  },
  {
   "cell_type": "code",
   "execution_count": 21,
   "metadata": {},
   "outputs": [],
   "source": [
    "def removeTrailingAndLeadingSpaces(df):\n",
    "    for x in df.columns:\n",
    "         df = df.withColumn(x, F.trim(x))\n",
    "    return df"
   ]
  },
  {
   "cell_type": "code",
   "execution_count": 22,
   "metadata": {},
   "outputs": [],
   "source": [
    "def standardizeTime(df):\n",
    "    pickupFactTime = df.withColumn('time', df.datetime.substr(-5, 5))\n",
    "    pickupFactTime = removeTrailingAndLeadingSpaces(pickupFactTime)\n",
    "    pickupFactTime = pickupFactTime.withColumn('time', F.concat(F.lit('0'),pickupFactTime.time))\n",
    "    pickupFactTime = pickupFactTime.withColumn('time', pickupFactTime.time.substr(-5, 5))\n",
    "    return pickupFactTime\n",
    "pickupFactTime = standardizeTime(pickupFact)"
   ]
  },
  {
   "cell_type": "code",
   "execution_count": 23,
   "metadata": {},
   "outputs": [],
   "source": [
    "def checkDates(strCheck):\n",
    "    \n",
    "    if (strCheck > '00:00') & (strCheck <= '07:59'):\n",
    "        return 1\n",
    "    elif (strCheck >= '08:00') & (strCheck <= '15:59'):\n",
    "        return 2\n",
    "    elif (strCheck >= '16:00') & (strCheck <= '23:59'):\n",
    "        return 3\n",
    "    return -1\n",
    "\n",
    "udf_time = F.udf(checkDates, T.IntegerType())\n",
    "pickupFactTime = pickupFactTime.withColumn('SKey', udf_time(F.col('time')))"
   ]
  },
  {
   "cell_type": "code",
   "execution_count": 24,
   "metadata": {},
   "outputs": [],
   "source": [
    "def checkCoverge(string):\n",
    "    coverage = {'Bronx': 1, 'Brooklyn': 2, 'JFK': 3, 'La Guardia': 4, 'Manhattan': 5, 'New York City': 6, 'Newark': 7, 'Other':8}\n",
    "    for key in coverage:\n",
    "        if key == string:\n",
    "            return coverage.get(key)\n",
    "    return -1\n",
    "udf_coverage = F.udf(checkCoverge, T.IntegerType())\n",
    "pickupFactTime = pickupFactTime.withColumn('CoveKey', udf_coverage(F.col('city')))"
   ]
  },
  {
   "cell_type": "code",
   "execution_count": 25,
   "metadata": {},
   "outputs": [],
   "source": [
    "def checkCompany(string):\n",
    "    company = {'Dial7': 1, 'First Class': 2, 'Lyft': 3, 'Skyline':4 }\n",
    "    for key in company:\n",
    "        if key == string:\n",
    "            return company.get(key)\n",
    "        \n",
    "udf_company = F.udf(checkCompany, T.IntegerType())\n",
    "pickupFactTime = pickupFactTime.withColumn('CompKey', udf_company(F.col('source')))"
   ]
  },
  {
   "cell_type": "code",
   "execution_count": 26,
   "metadata": {},
   "outputs": [],
   "source": [
    "pickupFactTime = pickupFactTime.withColumn(\"DriverKey\", F.lit(1))\n",
    "pickupFactTime = pickupFactTime.join(driverAdded, (driverAdded.shifttimekey==pickupFactTime.SKey)&(driverAdded.coveragekey==pickupFactTime.CoveKey)&(driverAdded.compnaykey==pickupFactTime.CompKey))\n",
    "pickupFactTime = pickupFactTime.select([driverAdded.driverkey, 'datetime', 'street_address', 'city', 'state', 'source']).persist()"
   ]
  },
  {
   "cell_type": "code",
   "execution_count": 27,
   "metadata": {},
   "outputs": [
    {
     "name": "stdout",
     "output_type": "stream",
     "text": [
      "+---------+--------------+-------------------+----------+--------+-------+\n",
      "|driverkey|      datetime|     street_address|      city|   state| source|\n",
      "+---------+--------------+-------------------+----------+--------+-------+\n",
      "|       92|7/1/2014 17:45|102-05 DITMARS BLVD|La Guardia|NEW YORK|Skyline|\n",
      "|       92|7/1/2014 17:30|102-05 DITMARS BLVD|La Guardia|NEW YORK|Skyline|\n",
      "|       92|7/1/2014 16:45|102-05 DITMARS BLVD|La Guardia|NEW YORK|Skyline|\n",
      "|       92|7/1/2014 19:10|102-05 DITMARS BLVD|La Guardia|NEW YORK|Skyline|\n",
      "|       92|7/1/2014 20:55|102-05 DITMARS BLVD|La Guardia|NEW YORK|Skyline|\n",
      "|       92|7/1/2014 16:25|102-05 DITMARS BLVD|La Guardia|NEW YORK|Skyline|\n",
      "|       92|7/1/2014 21:05|102-05 DITMARS BLVD|La Guardia|NEW YORK|Skyline|\n",
      "|       92|7/1/2014 23:00|102-05 DITMARS BLVD|La Guardia|NEW YORK|Skyline|\n",
      "|       92|7/1/2014 17:20|102-05 DITMARS BLVD|La Guardia|NEW YORK|Skyline|\n",
      "|       92|7/1/2014 20:40|102-05 DITMARS BLVD|La Guardia|NEW YORK|Skyline|\n",
      "|       92|7/1/2014 19:05|102-05 DITMARS BLVD|La Guardia|NEW YORK|Skyline|\n",
      "|       92|7/1/2014 20:50|102-05 DITMARS BLVD|La Guardia|NEW YORK|Skyline|\n",
      "|       92|7/1/2014 20:50|102-05 DITMARS BLVD|La Guardia|NEW YORK|Skyline|\n",
      "|       92|7/1/2014 17:55|102-05 DITMARS BLVD|La Guardia|NEW YORK|Skyline|\n",
      "|       92|7/1/2014 16:25|102-05 DITMARS BLVD|La Guardia|NEW YORK|Skyline|\n",
      "|       92|7/1/2014 20:00|102-05 DITMARS BLVD|La Guardia|NEW YORK|Skyline|\n",
      "|       92|7/1/2014 20:50|102-05 DITMARS BLVD|La Guardia|NEW YORK|Skyline|\n",
      "|       92|7/1/2014 17:06|102-05 DITMARS BLVD|La Guardia|NEW YORK|Skyline|\n",
      "|       92|7/1/2014 22:10|102-05 DITMARS BLVD|La Guardia|NEW YORK|Skyline|\n",
      "|       92|7/1/2014 23:03|102-05 DITMARS BLVD|La Guardia|NEW YORK|Skyline|\n",
      "+---------+--------------+-------------------+----------+--------+-------+\n",
      "only showing top 20 rows\n",
      "\n"
     ]
    }
   ],
   "source": [
    "pickupFactTime.show()"
   ]
  },
  {
   "cell_type": "code",
   "execution_count": null,
   "metadata": {},
   "outputs": [],
   "source": [
    "pickupFactTime.coalesce(1).write.csv('Fct_withKeys.csv')"
   ]
  },
  {
   "cell_type": "code",
   "execution_count": null,
   "metadata": {},
   "outputs": [],
   "source": [
    "pr.close_up_shop()"
   ]
  },
  {
   "cell_type": "code",
   "execution_count": null,
   "metadata": {},
   "outputs": [],
   "source": []
  }
 ],
 "metadata": {
  "kernelspec": {
   "display_name": "Python 3",
   "language": "python",
   "name": "python3"
  },
  "language_info": {
   "codemirror_mode": {
    "name": "ipython",
    "version": 3
   },
   "file_extension": ".py",
   "mimetype": "text/x-python",
   "name": "python",
   "nbconvert_exporter": "python",
   "pygments_lexer": "ipython3",
   "version": "3.7.4"
  }
 },
 "nbformat": 4,
 "nbformat_minor": 2
}
