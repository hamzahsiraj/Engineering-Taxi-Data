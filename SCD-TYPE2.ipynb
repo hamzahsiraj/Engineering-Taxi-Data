{
 "cells": [
  {
   "cell_type": "code",
   "execution_count": 1,
   "metadata": {},
   "outputs": [],
   "source": [
    "import findspark\n",
    "findspark.init()\n",
    "from pyspark.sql import SparkSession, Window\n",
    "import pandas as pd\n",
    "import pandas_redshift as pr"
   ]
  },
  {
   "cell_type": "code",
   "execution_count": 2,
   "metadata": {},
   "outputs": [],
   "source": [
    "# pip install pandas_redshift\n",
    "spark = SparkSession.builder.getOrCreate()"
   ]
  },
  {
   "cell_type": "code",
   "execution_count": 3,
   "metadata": {},
   "outputs": [],
   "source": [
    "pr.connect_to_redshift(\n",
    "    host= 'hostname',\n",
    "    user = 'username',\n",
    "    port = 'port',\n",
    "    password = '####',\n",
    "    dbname='dbname'\n",
    ")"
   ]
  },
  {
   "cell_type": "code",
   "execution_count": 4,
   "metadata": {},
   "outputs": [],
   "source": [
    "sql_statement = 'select * from DriveDim_Type2_Hamzah'\n",
    "sql_statement1 = 'select * from driverfeed_hamzah'\n",
    "sql_statement2 = 'select * from shifttimedim_hamzah'\n",
    "sql_statement3 = 'select * from coveragedim_hamzah'\n",
    "sql_statement4 = 'select * from companydim_hamzah'\n"
   ]
  },
  {
   "cell_type": "code",
   "execution_count": 5,
   "metadata": {},
   "outputs": [],
   "source": [
    "df = pr.redshift_to_pandas(sql_statement)\n",
    "df1 = pr.redshift_to_pandas(sql_statement1)\n",
    "df2 = pr.redshift_to_pandas(sql_statement2)\n",
    "df3 = pr.redshift_to_pandas(sql_statement3)\n",
    "df4 = pr.redshift_to_pandas(sql_statement4)"
   ]
  },
  {
   "cell_type": "code",
   "execution_count": 6,
   "metadata": {},
   "outputs": [],
   "source": [
    "import pyspark.sql.functions as F\n",
    "import pyspark.sql.types as T"
   ]
  },
  {
   "cell_type": "code",
   "execution_count": 7,
   "metadata": {},
   "outputs": [],
   "source": [
    "#These are the five dataframes\n",
    "driverdim = spark.createDataFrame(df)\n",
    "driverfeed = spark.createDataFrame(df1)\n",
    "shiftTime = spark.createDataFrame(df2)\n",
    "coverages = spark.createDataFrame(df3)\n",
    "companys = spark.createDataFrame(df4)"
   ]
  },
  {
   "cell_type": "code",
   "execution_count": 8,
   "metadata": {},
   "outputs": [],
   "source": [
    "from datetime import datetime, timedelta\n",
    "maxx = driverdim.agg({\"driverkey\": \"max\"}).head(1)[0][0]"
   ]
  },
  {
   "cell_type": "code",
   "execution_count": 9,
   "metadata": {},
   "outputs": [],
   "source": [
    "change = driverdim.join(driverfeed, (driverdim.drivername==driverfeed.drivername), how='inner')\n",
    "change = change.select([driverdim.driverrecordkey, driverdim.driverkey, driverdim.drivername, driverdim.shifttimekey, driverdim.coveragekey, driverdim.companykey, driverdim.hiredate, driverdim.firedate, driverdim.effectivedate, driverdim.loaddate, driverdim.expireddate, driverdim.current_record])\n",
    "nochange = driverdim.subtract(change)"
   ]
  },
  {
   "cell_type": "code",
   "execution_count": 10,
   "metadata": {},
   "outputs": [
    {
     "name": "stdout",
     "output_type": "stream",
     "text": [
      "+---------------+---------+----------+------------+-----------+----------+--------+----------+-------------+--------+-----------+--------------+\n",
      "|driverrecordkey|driverkey|drivername|shifttimekey|coveragekey|companykey|hiredate|  firedate|effectivedate|loaddate|expireddate|current_record|\n",
      "+---------------+---------+----------+------------+-----------+----------+--------+----------+-------------+--------+-----------+--------------+\n",
      "|             70|       68|   L19Name|           3|          3|         3|7/1/2014|12/31/9999|     7/1/2014|7/2/2014| 12/31/9999|             1|\n",
      "|             22|       20|   D19Name|           3|          3|         1|7/1/2014|12/31/9999|     7/1/2014|7/2/2014| 12/31/9999|             1|\n",
      "|             19|       17|   D16Name|           2|          8|         1|7/1/2014|12/31/9999|     7/1/2014|7/2/2014| 12/31/9999|             1|\n",
      "|             83|       81|   S08Name|           1|          8|         4|7/1/2014|12/31/9999|     7/1/2014|7/2/2014| 12/31/9999|             1|\n",
      "|             65|       63|   L14Name|           2|          6|         3|7/1/2014|12/31/9999|     7/1/2014|7/2/2014| 12/31/9999|             1|\n",
      "|             98|       96|   S23Name|           3|          7|         4|7/1/2014|12/31/9999|     7/1/2014|7/2/2014| 12/31/9999|             1|\n",
      "|             69|       67|   L18Name|           3|          2|         3|7/1/2014|12/31/9999|     7/1/2014|7/2/2014| 12/31/9999|             1|\n",
      "|             39|       37|   F12Name|           2|          4|         2|7/1/2014|12/31/9999|     7/1/2014|7/2/2014| 12/31/9999|             1|\n",
      "|             55|       53|   L04Name|           1|          4|         3|7/1/2014|12/31/9999|     7/1/2014|7/2/2014| 12/31/9999|             1|\n",
      "|             48|       46|   F21Name|           3|          5|         2|7/1/2014|12/31/9999|     7/1/2014|7/2/2014| 12/31/9999|             1|\n",
      "|             59|       57|   L08Name|           1|          8|         3|7/1/2014|12/31/9999|     7/1/2014|7/2/2014| 12/31/9999|             1|\n",
      "|             85|       83|   S10Name|           2|          2|         4|7/1/2014|12/31/9999|     7/1/2014|7/2/2014| 12/31/9999|             1|\n",
      "|             94|       92|   S19Name|           3|          3|         4|7/1/2014|12/31/9999|     7/1/2014|7/2/2014| 12/31/9999|             1|\n",
      "|             13|       11|   D10Name|           2|          2|         1|7/1/2014|12/31/9999|     7/1/2014|7/2/2014| 12/31/9999|             1|\n",
      "|             67|       65|   L16Name|           2|          8|         3|7/1/2014|12/31/9999|     7/1/2014|7/2/2014| 12/31/9999|             1|\n",
      "|             27|       25|   D24Name|           3|          8|         1|7/1/2014|12/31/9999|     7/1/2014|7/2/2014| 12/31/9999|             1|\n",
      "|             62|       60|   L11Name|           2|          3|         3|7/1/2014|12/31/9999|     7/1/2014|7/2/2014| 12/31/9999|             1|\n",
      "|             50|       48|   F23Name|           3|          7|         2|7/1/2014|12/31/9999|     7/1/2014|7/2/2014| 12/31/9999|             1|\n",
      "|              3|        1|   D00Name|           1|          1|         1|1/1/2014| 6/30/2014|    6/30/2014|7/1/2014| 12/31/9999|             1|\n",
      "|             45|       43|   F18Name|           3|          2|         2|7/1/2014|12/31/9999|     7/1/2014|7/2/2014| 12/31/9999|             1|\n",
      "+---------------+---------+----------+------------+-----------+----------+--------+----------+-------------+--------+-----------+--------------+\n",
      "only showing top 20 rows\n",
      "\n"
     ]
    }
   ],
   "source": [
    "nochange.show()"
   ]
  },
  {
   "cell_type": "code",
   "execution_count": 11,
   "metadata": {},
   "outputs": [],
   "source": [
    "def dateMinusOne(s):\n",
    "    date = datetime.strptime(s, \"%m/%d/%Y\")\n",
    "    modified_date = date - timedelta(days=1)\n",
    "    return datetime.strftime(modified_date, \"%m/%d/%Y\")\n",
    "udfModifyTime = F.udf(dateMinusOne, T.StringType())"
   ]
  },
  {
   "cell_type": "code",
   "execution_count": 12,
   "metadata": {},
   "outputs": [],
   "source": [
    "def firedTypeTwo(driverdim, driverfeed):\n",
    "    drivedimFired = driverdim.join(driverfeed, (driverdim.drivername == driverfeed.drivername) & (driverfeed.action == 'FIRED'), how='inner')\n",
    "    drivedimFired = drivedimFired.select([driverdim.driverrecordkey, driverdim.driverkey, driverdim.drivername, driverdim.shifttimekey, driverdim.coveragekey, driverdim.companykey, driverdim.hiredate, driverdim.firedate, driverdim.effectivedate, driverdim.loaddate, driverdim.expireddate, driverdim.current_record, driverfeed.effdt, driverfeed.filedt])\n",
    "    drivedimFired = drivedimFired.withColumn('expireddate', udfModifyTime('effdt'))\n",
    "    drivedimFired = drivedimFired.withColumn('current_record', F.when(F.col('current_record') == 1, 0)).persist()\n",
    "    newRecords = drivedimFired.select(['driverrecordkey','driverkey', 'drivername', 'shifttimekey', 'coveragekey', 'companykey', 'hiredate', 'firedate', 'effectivedate', 'loaddate', 'expireddate', 'current_record', 'effdt', 'filedt'])\n",
    "    newRecords = newRecords.withColumn('firedate', F.lit(F.col('effdt')))\n",
    "    newRecords = newRecords.withColumn('effectivedate', F.lit(F.col('effdt')))\n",
    "    newRecords = newRecords.withColumn('loaddate', F.lit(F.col('filedt')))\n",
    "    newRecords = newRecords.withColumn('current_record', F.lit(1))\n",
    "    newRecords = newRecords.withColumn('expireddate', F.lit('12/31/9999'))\n",
    "    newRecords = newRecords.withColumn('driverrecordkey', F.lit('999'))\n",
    "    return drivedimFired.unionAll(newRecords)\n",
    "\n",
    "driverFiredAndAdded = firedTypeTwo(driverdim, driverfeed)\n",
    "driverFiredAndAdded = driverFiredAndAdded.select(['driverrecordkey', 'driverkey','drivername', 'shifttimekey', 'coveragekey','companykey','hiredate', 'firedate', 'effectivedate', 'loaddate', 'expireddate', 'current_record'])\n"
   ]
  },
  {
   "cell_type": "code",
   "execution_count": 13,
   "metadata": {},
   "outputs": [
    {
     "name": "stdout",
     "output_type": "stream",
     "text": [
      "+---------------+---------+----------+------------+-----------+----------+--------+----------+-------------+----------+-----------+--------------+\n",
      "|driverrecordkey|driverkey|drivername|shifttimekey|coveragekey|companykey|hiredate|  firedate|effectivedate|  loaddate|expireddate|current_record|\n",
      "+---------------+---------+----------+------------+-----------+----------+--------+----------+-------------+----------+-----------+--------------+\n",
      "|             15|       13|   D12Name|           2|          4|         1|7/1/2014|12/31/9999|     7/1/2014|  7/2/2014| 10/18/2014|             0|\n",
      "|             25|       23|   D22Name|           3|          6|         1|7/1/2014|12/31/9999|     7/1/2014|  7/2/2014| 10/04/2014|             0|\n",
      "|             87|       85|   S12Name|           2|          4|         4|7/1/2014|12/31/9999|     7/1/2014|  7/2/2014| 11/08/2014|             0|\n",
      "|             79|       77|   S04Name|           1|          4|         4|7/1/2014|12/31/9999|     7/1/2014|  7/2/2014| 10/18/2014|             0|\n",
      "|            999|       13|   D12Name|           2|          4|         1|7/1/2014|10/19/2014|   10/19/2014|10/20/2014| 12/31/9999|             1|\n",
      "|            999|       23|   D22Name|           3|          6|         1|7/1/2014| 10/5/2014|    10/5/2014| 10/6/2014| 12/31/9999|             1|\n",
      "|            999|       85|   S12Name|           2|          4|         4|7/1/2014| 11/9/2014|    11/9/2014|11/10/2014| 12/31/9999|             1|\n",
      "|            999|       77|   S04Name|           1|          4|         4|7/1/2014|10/19/2014|   10/19/2014|10/20/2014| 12/31/9999|             1|\n",
      "+---------------+---------+----------+------------+-----------+----------+--------+----------+-------------+----------+-----------+--------------+\n",
      "\n"
     ]
    }
   ],
   "source": [
    "driverFiredAndAdded.show()"
   ]
  },
  {
   "cell_type": "code",
   "execution_count": 14,
   "metadata": {},
   "outputs": [],
   "source": [
    "def firedTypeTwo(driverdim, driverfeed, shiftTime, coverages, companys):\n",
    "    \n",
    "\n",
    "    drivedimChanged = driverdim.join(driverfeed, (driverdim.drivername == driverfeed.drivername) & (driverfeed.action == 'CHANGE'), how='inner').join(shiftTime, (driverfeed.beginshift==shiftTime.starttime) & (driverfeed.endshift==shiftTime.endtime), how='inner').join(coverages, (driverfeed.coverage==coverages.coverage), how='inner').join(companys, (driverfeed.source==companys.company), how='inner')\n",
    "    drivedimChanged = drivedimChanged.select([driverdim.driverrecordkey, driverdim.driverkey, driverdim.drivername,shiftTime.shifttimekey, coverages.coveragekey,companys.compnaykey, driverdim.hiredate, driverdim.firedate, driverdim.effectivedate, driverdim.loaddate, driverdim.expireddate, driverdim.current_record, driverfeed.effdt, driverfeed.filedt])\n",
    "    drivedimChanged = drivedimChanged.withColumn('expireddate', udfModifyTime('effdt'))   \n",
    "    drivedimChanged = drivedimChanged.withColumn('current_record', F.when(F.col('current_record') == 1, 0)).persist()\n",
    "    changedRecords = drivedimChanged.select(['driverrecordkey','driverkey', 'drivername', 'shifttimekey', 'coveragekey', 'compnaykey', 'hiredate', 'firedate', 'effectivedate', 'loaddate', 'expireddate', 'current_record', 'effdt', 'filedt'])\n",
    "    changedRecords = changedRecords.withColumn('effectivedate', F.lit(F.col('effdt')))\n",
    "    changedRecords = changedRecords.withColumn('loaddate', F.lit(F.col('filedt')))\n",
    "    changedRecords = changedRecords.withColumn('current_record', F.lit(1))\n",
    "    changedRecords = changedRecords.withColumn('firedate', F.lit('12/31/9999'))\n",
    "    changedRecords = changedRecords.withColumn('expireddate', F.lit('12/31/9999'))\n",
    "    return drivedimChanged.unionAll(changedRecords)\n",
    "\n",
    "driverChangedAndAdded = firedTypeTwo(driverdim, driverfeed, shiftTime, coverages, companys)\n",
    "driverChangedAndAdded = driverChangedAndAdded.select(['driverrecordkey','driverkey', 'drivername', 'shifttimekey', 'coveragekey', 'compnaykey', 'hiredate', 'firedate', 'effectivedate', 'loaddate', 'expireddate', 'current_record']).persist()\n"
   ]
  },
  {
   "cell_type": "code",
   "execution_count": 15,
   "metadata": {},
   "outputs": [
    {
     "name": "stdout",
     "output_type": "stream",
     "text": [
      "+---------------+---------+----------+------------+-----------+----------+--------+----------+-------------+--------+-----------+--------------+\n",
      "|driverrecordkey|driverkey|drivername|shifttimekey|coveragekey|compnaykey|hiredate|  firedate|effectivedate|loaddate|expireddate|current_record|\n",
      "+---------------+---------+----------+------------+-----------+----------+--------+----------+-------------+--------+-----------+--------------+\n",
      "|             29|       27|   F02Name|           1|          8|         2|7/1/2014|12/31/9999|     7/1/2014|7/2/2014| 11/02/2014|             0|\n",
      "|             28|       26|   F01Name|           1|          2|         2|7/1/2014|12/31/9999|     7/1/2014|7/2/2014| 11/02/2014|             0|\n",
      "|             38|       36|   F11Name|           2|          6|         2|7/1/2014|12/31/9999|     7/1/2014|7/2/2014| 11/02/2014|             0|\n",
      "|             46|       44|   F19Name|           3|          1|         2|7/1/2014|12/31/9999|     7/1/2014|7/2/2014| 11/02/2014|             0|\n",
      "|             35|       33|   F08Name|           1|          1|         2|7/1/2014|12/31/9999|     7/1/2014|7/2/2014| 11/02/2014|             0|\n",
      "|             44|       42|   F17Name|           3|          3|         2|7/1/2014|12/31/9999|     7/1/2014|7/2/2014| 11/02/2014|             0|\n",
      "|             41|       39|   F14Name|           2|          3|         2|7/1/2014|12/31/9999|     7/1/2014|7/2/2014| 11/02/2014|             0|\n",
      "|             72|       70|   L21Name|           3|          4|         3|7/1/2014|12/31/9999|     7/1/2014|7/2/2014| 08/31/2014|             0|\n",
      "|             71|       69|   L20Name|           3|          8|         3|7/1/2014|12/31/9999|     7/1/2014|7/2/2014| 08/31/2014|             0|\n",
      "|             75|       73|   L24Name|           3|          7|         3|7/1/2014|12/31/9999|     7/1/2014|7/2/2014| 08/31/2014|             0|\n",
      "|             54|       52|   L03Name|           1|          7|         3|7/1/2014|12/31/9999|     7/1/2014|7/2/2014| 09/21/2014|             0|\n",
      "|             60|       58|   L09Name|           2|          2|         3|7/1/2014|12/31/9999|     7/1/2014|7/2/2014| 08/03/2014|             0|\n",
      "|             74|       72|   L23Name|           3|          5|         3|7/1/2014|12/31/9999|     7/1/2014|7/2/2014| 08/31/2014|             0|\n",
      "|             61|       59|   L10Name|           2|          1|         3|7/1/2014|12/31/9999|     7/1/2014|7/2/2014| 08/03/2014|             0|\n",
      "|             58|       56|   L07Name|           1|          3|         3|7/1/2014|12/31/9999|     7/1/2014|7/2/2014| 09/21/2014|             0|\n",
      "|             90|       88|   S15Name|           2|          4|         4|7/1/2014|12/31/9999|     7/1/2014|7/2/2014| 11/09/2014|             0|\n",
      "|             80|       78|   S05Name|           1|          4|         4|7/1/2014|12/31/9999|     7/1/2014|7/2/2014| 10/19/2014|             0|\n",
      "|             76|       74|   S01Name|           3|          2|         4|7/1/2014|12/31/9999|     7/1/2014|7/2/2014| 10/19/2014|             0|\n",
      "|             92|       90|   S17Name|           1|          2|         4|7/1/2014|12/31/9999|     7/1/2014|7/2/2014| 11/09/2014|             0|\n",
      "|             89|       87|   S14Name|           2|          5|         4|7/1/2014|12/31/9999|     7/1/2014|7/2/2014| 11/09/2014|             0|\n",
      "+---------------+---------+----------+------------+-----------+----------+--------+----------+-------------+--------+-----------+--------------+\n",
      "only showing top 20 rows\n",
      "\n"
     ]
    }
   ],
   "source": [
    "driverChangedAndAdded.show()"
   ]
  },
  {
   "cell_type": "code",
   "execution_count": 16,
   "metadata": {},
   "outputs": [],
   "source": [
    "def hiredTypeTwo(driverfeed, shiftTime, coverages, companys):\n",
    "    drivedimHired = driverfeed.join(shiftTime, (driverfeed.action == 'HIRED') & (driverfeed.beginshift==shiftTime.starttime) & (driverfeed.endshift==shiftTime.endtime), how='inner').join(coverages, (driverfeed.coverage==coverages.coverage), how='inner').join(companys, (driverfeed.source==companys.company), how='inner')\n",
    "    drivedimHired = drivedimHired.withColumn('key', F.row_number().over(Window.orderBy(F.monotonically_increasing_id())))\n",
    "    drivedimHired = drivedimHired.withColumn('driverkey', maxx+drivedimHired.key)\n",
    "    drivedimHired = drivedimHired.withColumn('effectivedate', F.lit(F.col('effdt')))\n",
    "    drivedimHired = drivedimHired.withColumn('hiredate', F.lit(F.col('effdt')))\n",
    "    drivedimHired = drivedimHired.withColumn('loaddate', F.lit(F.col('filedt')))\n",
    "    drivedimHired = drivedimHired.withColumn('firedate', F.lit('12/31/9999'))\n",
    "    drivedimHired = drivedimHired.withColumn('expireddate', F.lit('12/31/9999'))\n",
    "    drivedimHired = drivedimHired.withColumn('current_record', F.lit(1))\n",
    "    drivedimHired = drivedimHired.withColumn('driverrecordkey', F.lit(999))\n",
    "    drivedimHired = drivedimHired.select('driverrecordkey', 'driverkey', driverfeed.drivername,shiftTime.shifttimekey, coverages.coveragekey,companys.compnaykey,'hiredate', 'firedate', 'effectivedate', 'loaddate', 'expireddate', 'current_record')\n",
    "    return drivedimHired\n",
    "driverHired = hiredTypeTwo(driverfeed, shiftTime, coverages, companys).persist()"
   ]
  },
  {
   "cell_type": "code",
   "execution_count": 17,
   "metadata": {},
   "outputs": [],
   "source": [
    "final_table = nochange.union(driverFiredAndAdded).union(driverChangedAndAdded).union(driverHired).persist()"
   ]
  },
  {
   "cell_type": "code",
   "execution_count": 18,
   "metadata": {},
   "outputs": [],
   "source": [
    "final_table = final_table.orderBy('driverkey', ascending=True)"
   ]
  },
  {
   "cell_type": "code",
   "execution_count": 19,
   "metadata": {},
   "outputs": [],
   "source": [
    "final_table = final_table.withColumn('driverrecordkey', F.row_number().over(Window.orderBy(F.monotonically_increasing_id())))"
   ]
  },
  {
   "cell_type": "code",
   "execution_count": 20,
   "metadata": {},
   "outputs": [
    {
     "name": "stdout",
     "output_type": "stream",
     "text": [
      "+---------------+---------+----------+------------+-----------+----------+--------+----------+-------------+----------+-----------+--------------+\n",
      "|driverrecordkey|driverkey|drivername|shifttimekey|coveragekey|companykey|hiredate|  firedate|effectivedate|  loaddate|expireddate|current_record|\n",
      "+---------------+---------+----------+------------+-----------+----------+--------+----------+-------------+----------+-----------+--------------+\n",
      "|              1|       -1|      NULL|          -1|         -1|        -1|1/1/1900|12/31/9999|     1/1/1900|  1/1/1900| 12/31/9999|             1|\n",
      "|              2|        1|   D00Name|           1|          1|         1|1/1/2014| 6/30/2014|    6/30/2014|  7/1/2014| 12/31/9999|             1|\n",
      "|              3|        1|   D00Name|           1|          1|         1|1/1/2014|12/31/9999|     1/1/2014|  1/2/2014|  6/29/2014|             0|\n",
      "|              4|        2|   D01Name|           1|          1|         1|7/1/2014|12/31/9999|     7/1/2014|  7/2/2014| 12/31/9999|             1|\n",
      "|              5|        3|   D02Name|           1|          5|         1|7/1/2014|12/31/9999|     7/1/2014|  7/2/2014| 10/19/2014|             0|\n",
      "|              6|        3|   D02Name|           1|          5|         1|7/1/2014|12/31/9999|   10/20/2014|10/21/2014| 12/31/9999|             1|\n",
      "|              7|        4|   D03Name|           1|          3|         1|7/1/2014|12/31/9999|     7/1/2014|  7/2/2014| 12/31/9999|             1|\n",
      "|              8|        5|   D04Name|           1|          4|         1|7/1/2014|12/31/9999|     7/1/2014|  7/2/2014| 12/31/9999|             1|\n",
      "|              9|        6|   D05Name|           1|          2|         1|7/1/2014|12/31/9999|     7/1/2014|  7/2/2014| 10/19/2014|             0|\n",
      "|             10|        6|   D05Name|           1|          2|         1|7/1/2014|12/31/9999|   10/20/2014|10/21/2014| 12/31/9999|             1|\n",
      "|             11|        7|   D06Name|           1|          6|         1|7/1/2014|12/31/9999|     7/1/2014|  7/2/2014| 12/31/9999|             1|\n",
      "|             12|        8|   D07Name|           1|          7|         1|7/1/2014|12/31/9999|     7/1/2014|  7/2/2014| 12/31/9999|             1|\n",
      "|             13|        9|   D08Name|           1|          8|         1|7/1/2014|12/31/9999|     7/1/2014|  7/2/2014| 12/31/9999|             1|\n",
      "|             14|       10|   D09Name|           2|          1|         1|7/1/2014|12/31/9999|     7/1/2014|  7/2/2014| 12/31/9999|             1|\n",
      "|             15|       11|   D10Name|           2|          2|         1|7/1/2014|12/31/9999|     7/1/2014|  7/2/2014| 12/31/9999|             1|\n",
      "|             16|       12|   D11Name|           2|          3|         1|7/1/2014|12/31/9999|     7/1/2014|  7/2/2014| 12/31/9999|             1|\n",
      "|             17|       13|   D12Name|           2|          4|         1|7/1/2014|12/31/9999|     7/1/2014|  7/2/2014| 10/18/2014|             0|\n",
      "|             18|       13|   D12Name|           2|          4|         1|7/1/2014|10/19/2014|   10/19/2014|10/20/2014| 12/31/9999|             1|\n",
      "|             19|       14|   D13Name|           2|          5|         1|7/1/2014|12/31/9999|     7/1/2014|  7/2/2014| 12/31/9999|             1|\n",
      "|             20|       15|   D14Name|           2|          6|         1|7/1/2014|12/31/9999|     7/1/2014|  7/2/2014| 12/31/9999|             1|\n",
      "+---------------+---------+----------+------------+-----------+----------+--------+----------+-------------+----------+-----------+--------------+\n",
      "only showing top 20 rows\n",
      "\n"
     ]
    }
   ],
   "source": [
    "final_table.show()"
   ]
  },
  {
   "cell_type": "code",
   "execution_count": null,
   "metadata": {},
   "outputs": [],
   "source": [
    "final_table.coalesce(1).write.csv(\"driverFinal_dim_Type2.csv\")"
   ]
  },
  {
   "cell_type": "code",
   "execution_count": null,
   "metadata": {},
   "outputs": [],
   "source": [
    "# pr.close_up_shop()"
   ]
  },
  {
   "cell_type": "code",
   "execution_count": null,
   "metadata": {},
   "outputs": [],
   "source": []
  }
 ],
 "metadata": {
  "kernelspec": {
   "display_name": "Python 3",
   "language": "python",
   "name": "python3"
  },
  "language_info": {
   "codemirror_mode": {
    "name": "ipython",
    "version": 3
   },
   "file_extension": ".py",
   "mimetype": "text/x-python",
   "name": "python",
   "nbconvert_exporter": "python",
   "pygments_lexer": "ipython3",
   "version": "3.7.4"
  }
 },
 "nbformat": 4,
 "nbformat_minor": 2
}
